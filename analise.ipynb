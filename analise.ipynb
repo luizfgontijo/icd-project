{
  "cells": [
    {
      "cell_type": "code",
      "execution_count": null,
      "id": "a9510286",
      "metadata": {
        "colab": {
          "base_uri": "https://localhost:8080/"
        },
        "id": "a9510286",
        "outputId": "279a4c8b-54a1-4299-fa76-5d8bcdd61220"
      },
      "outputs": [
        {
          "ename": "",
          "evalue": "",
          "output_type": "error",
          "traceback": [
            "\u001b[1;31mRunning cells with 'Python 3.12.3' requires the ipykernel package.\n",
            "\u001b[1;31m<a href='command:jupyter.createPythonEnvAndSelectController'>Create a Python Environment</a> with the required packages.\n",
            "\u001b[1;31mOr install 'ipykernel' using the command: '/usr/bin/python3 -m pip install ipykernel -U --user --force-reinstall'"
          ]
        }
      ],
      "source": [
        "!pip install geopandas"
      ]
    },
    {
      "cell_type": "code",
      "execution_count": null,
      "id": "91e6bf0b",
      "metadata": {
        "colab": {
          "base_uri": "https://localhost:8080/",
          "height": 206
        },
        "id": "91e6bf0b",
        "outputId": "145de0d8-78b6-41ee-8731-15fabec17d45"
      },
      "outputs": [],
      "source": [
        "import pandas as pd\n",
        "\n",
        "iqvu = pd.read_csv(\"csvs/bd_iqvu_1994_2016.csv\", sep=\";\", encoding=\"latin-1\")\n",
        "\n",
        "iqvu.rename(columns={\n",
        "    'ï»¿SERIE': 'serie',\n",
        "    'ANO': 'ano',\n",
        "    'CODUP': 'cod_up',\n",
        "    'NOMEUP': 'nome',\n",
        "    'IQVU_3_Educacao': 'iqvu_educacao',\n",
        "    'IQVU_5_Habitacao': 'iqvu_habitacao',\n",
        "    'IQVU_6_Infra-estrutura_urbana': 'iqvu_infraestrutura',\n",
        "    'IQVU_7_Meio_Ambiente': 'iqvu_meio_ambiente',\n",
        "    'IQVU_8_Saude': 'iqvu_saude',\n",
        "    'IQVU_9_Servicos_Urbanos': 'iqvu_servicos',\n",
        "    'IQVU': 'iqvu'\n",
        "}, inplace=True)\n",
        "\n",
        "cols_num = [c for c in iqvu.columns if 'iqvu' in c.lower()]\n",
        "for col in cols_num:\n",
        "    iqvu[col] = iqvu[col].astype(str).str.replace(',', '.').astype(float)\n",
        "\n",
        "# mantém apenas as colunas relevantes (as que de fato estão no CSV)\n",
        "colunas_relevantes = [\n",
        "    \"ano\",\n",
        "    \"cod_up\",\n",
        "    \"nome\",\n",
        "    \"iqvu\",\n",
        "    \"iqvu_educacao\",\n",
        "    \"iqvu_habitacao\",\n",
        "    \"iqvu_infraestrutura\",\n",
        "    \"iqvu_meio_ambiente\",\n",
        "    \"iqvu_saude\",\n",
        "    \"iqvu_servicos\"\n",
        "]\n",
        "\n",
        "iqvu = iqvu[colunas_relevantes]\n",
        "\n",
        "iqvu.head()\n",
        "\n"
      ]
    },
    {
      "cell_type": "code",
      "execution_count": null,
      "id": "c48bcc1f",
      "metadata": {
        "colab": {
          "base_uri": "https://localhost:8080/",
          "height": 320
        },
        "id": "c48bcc1f",
        "outputId": "7f13945c-3e77-41d8-e436-ba2c6d622e12"
      },
      "outputs": [],
      "source": [
        "risco_inundacao = pd.read_csv('csvs/20250707_area-prioritaria-_sbn.csv', sep=\";\", encoding='latin-1')\n",
        "\n",
        "colunas_analise = [\n",
        "    'AREA_M2',\n",
        "    'EXP_ALAG', 'EXP_DESL', 'EXP_INUN',\n",
        "    'VUL_ALAG', 'VUL_DESL', 'VUL_INUN',\n",
        "    'CON_AMB', 'CON_ANT', 'CON_TOT',\n",
        "    'SBN_ALAG', 'SBN_DESL', 'SBN_INUN'\n",
        "]\n",
        "\n",
        "risco_inundacao = risco_inundacao[colunas_analise]\n",
        "risco_inundacao.rename(columns={\n",
        "    'EXP_ALAG': 'exposicao_alagamento',\n",
        "    'EXP_DESL': 'exposicao_deslizamento',\n",
        "    'EXP_INUN': 'exposicao_inundacao',\n",
        "    'VUL_ALAG': 'vulnerabilidade_alagamento',\n",
        "    'VUL_DESL': 'vulnerabilidade_deslizamento',\n",
        "    'VUL_INUN': 'vulnerabilidade_inundacao',\n",
        "    'CON_AMB': 'condicoes_ambientais',\n",
        "    'CON_ANT': 'condicoes_humanas',\n",
        "    'CON_TOT': 'condicoes_totais',\n",
        "    'SBN_ALAG': 'risco_alagamento',\n",
        "    'SBN_DESL': 'risco_deslizamento',\n",
        "    'SBN_INUN': 'risco_inundacao'\n",
        "}, inplace=True)\n",
        "\n",
        "for col in risco_inundacao.columns:\n",
        "    risco_inundacao[col] = risco_inundacao[col].astype(str).str.replace(',', '.').astype(float)\n",
        "\n",
        "risco_inundacao.describe().round(2)\n"
      ]
    },
    {
      "cell_type": "code",
      "execution_count": null,
      "id": "37f1f059",
      "metadata": {
        "colab": {
          "base_uri": "https://localhost:8080/",
          "height": 1000
        },
        "id": "37f1f059",
        "outputId": "b9a98d9b-e15a-464d-e998-cd602fb2f7fa"
      },
      "outputs": [],
      "source": [
        "import geopandas as gpd\n",
        "from shapely import wkt\n",
        "import matplotlib.pyplot as plt\n",
        "\n",
        "# Ler CSV da SBN\n",
        "area_prioritaria_sbn = gpd.read_file(\"csvs/20250707_area-prioritaria-_sbn.csv\", delimiter=\";\")\n",
        "area_prioritaria_sbn[\"geometry\"] = area_prioritaria_sbn[\"GEOMETRIA\"].apply(wkt.loads)\n",
        "area_prioritaria_sbn = gpd.GeoDataFrame(area_prioritaria_sbn, geometry=\"geometry\", crs=\"EPSG:31983\")\n",
        "\n",
        "# Corrigir campo numérico\n",
        "area_prioritaria_sbn[\"SBN_INUN\"] = (\n",
        "    area_prioritaria_sbn[\"SBN_INUN\"]\n",
        "    .astype(str)\n",
        "    .str.replace(\",\", \".\")\n",
        "    .str.extract(\"([0-9.]+)\")[0]\n",
        "    .astype(float)\n",
        ")\n",
        "\n",
        "#  Ler UPs\n",
        "ups = gpd.read_file(\"csvs/20220601_unidade_planejamento.csv\", delimiter=\";\")\n",
        "ups[\"geometry\"] = ups[\"GEOMETRIA\"].apply(wkt.loads)\n",
        "ups = gpd.GeoDataFrame(ups, geometry=\"geometry\", crs=\"EPSG:31983\")\n",
        "\n",
        "# 4) Fazer o spatial join — associa cada área SBN à UP onde ela está\n",
        "sbn_up = gpd.sjoin(\n",
        "    area_prioritaria_sbn,\n",
        "    ups[[\"NOME_UNID_PLANEJAMENTO\", \"geometry\"]],\n",
        "    how=\"left\",\n",
        "    predicate=\"intersects\"\n",
        ")\n",
        "\n",
        "#  Agregar por UP  dissolve os polígonos da SBN dentro de cada UP\n",
        "sbn_por_up = sbn_up.dissolve(\n",
        "    by=\"NOME_UNID_PLANEJAMENTO\",\n",
        "    aggfunc={\n",
        "        \"SBN_INUN\": \"mean\"  # média de risco por UP\n",
        "    }\n",
        ").reset_index()\n",
        "\n",
        "#  Plotar\n",
        "fig, ax = plt.subplots(figsize=(10, 10))\n",
        "\n",
        "sbn_por_up.plot(\n",
        "    ax=ax,\n",
        "    column=\"SBN_INUN\",\n",
        "    cmap=\"Reds\",\n",
        "    linewidth=0.3,\n",
        "    edgecolor=\"white\",\n",
        "    legend=True\n",
        ")\n",
        "\n",
        "ups.boundary.plot(ax=ax, color=\"black\", linewidth=0.3)\n",
        "\n",
        "ax.set_title(\"Média do Risco SBN por Unidade de Planejamento – BH\", fontsize=14, pad=15)\n",
        "ax.set_axis_off()\n",
        "plt.tight_layout()\n",
        "plt.show()\n"
      ]
    },
    {
      "cell_type": "code",
      "execution_count": null,
      "id": "32367777",
      "metadata": {
        "colab": {
          "base_uri": "https://localhost:8080/",
          "height": 850
        },
        "id": "32367777",
        "outputId": "189d4307-18c2-4f91-922d-0ca3e5c72b9e"
      },
      "outputs": [],
      "source": [
        "# Lê o CSV dos bairros oficiais\n",
        "bairros = pd.read_csv(\"csvs/20230502_bairro_oficial.csv\", sep=\",\", encoding=\"latin-1\")\n",
        "\n",
        "# Converte a coluna GEOMETRIA em polígonos\n",
        "bairros[\"geometry\"] = bairros[\"GEOMETRIA\"].apply(wkt.loads)\n",
        "\n",
        "# Cria o GeoDataFrame\n",
        "bairros = gpd.GeoDataFrame(bairros, geometry=\"geometry\", crs=\"EPSG:31983\")\n",
        "\n",
        "# plot\n",
        "fig, ax = plt.subplots(figsize=(10, 10))\n",
        "bairros.plot(\n",
        "    ax=ax,\n",
        "    color=\"#a8dadc\",\n",
        "    edgecolor=\"gray\",\n",
        "    linewidth=0.5\n",
        ")\n",
        "\n",
        "ax.set_title(\"Bairros Oficiais de Belo Horizonte\", fontsize=16, pad=20)\n",
        "ax.set_axis_off()\n",
        "plt.show()"
      ]
    },
    {
      "cell_type": "code",
      "execution_count": null,
      "id": "053877d5",
      "metadata": {
        "colab": {
          "base_uri": "https://localhost:8080/",
          "height": 854
        },
        "id": "053877d5",
        "outputId": "f264efb9-4dc7-42d7-dc78-8662a796bf21"
      },
      "outputs": [],
      "source": [
        "import matplotlib.pyplot as plt\n",
        "\n",
        "fig, ax = plt.subplots(figsize=(10, 10))\n",
        "\n",
        "\n",
        "area_prioritaria_sbn.plot(\n",
        "    ax=ax,\n",
        "    column=\"SBN_INUN\",     # variável de cor\n",
        "    cmap=\"Reds\",           # tons de vermelho\n",
        "    linewidth=0,           # sem borda\n",
        "    alpha=0.8              # um pouco transparente\n",
        ")\n",
        "\n",
        "\n",
        "bairros.boundary.plot(\n",
        "    ax=ax,\n",
        "    color=\"gray\",          # só contorno\n",
        "    linewidth=0.5          # linha fininha\n",
        ")\n",
        "\n",
        "ax.set_title(\"Áreas SBN com Demarcação dos Bairros Oficiais de Belo Horizonte\", fontsize=15, pad=20)\n",
        "ax.set_axis_off()\n",
        "\n",
        "plt.show()\n"
      ]
    },
    {
      "cell_type": "code",
      "execution_count": null,
      "id": "07c77f17",
      "metadata": {
        "colab": {
          "base_uri": "https://localhost:8080/",
          "height": 1000
        },
        "id": "07c77f17",
        "outputId": "d844b4d9-fd7c-4209-f7e7-7dba7214fb05"
      },
      "outputs": [],
      "source": [
        "import unicodedata\n",
        "import geopandas as gpd\n",
        "\n",
        "# garante o mesmo sistema de coordenadas\n",
        "area_prioritaria_sbn = area_prioritaria_sbn.to_crs(bairros.crs)\n",
        "\n",
        "# interseção espacial: liga áreas SBN aos bairros\n",
        "risco_com_bairro = gpd.sjoin(\n",
        "    area_prioritaria_sbn,\n",
        "    bairros[[\"NOME\", \"geometry\"]],\n",
        "    how=\"left\",\n",
        "    predicate=\"intersects\"\n",
        ")\n",
        "\n",
        "# normaliza o texto sem tentar recodificar (evita erro UnicodeDecodeError)\n",
        "risco_com_bairro[\"NOME\"] = risco_com_bairro[\"NOME\"].apply(\n",
        "    lambda x: unicodedata.normalize(\"NFKC\", x) if isinstance(x, str) else x\n",
        ")\n",
        "\n",
        "print(\"antes agregação de bairros:\\n\", risco_com_bairro.isna().sum(), end=\"\\n\\n\")\n",
        "\n",
        "# lista de colunas numéricas relevantes\n",
        "cols_numericas = [\n",
        "    \"SBN_ALAG\", \"SBN_DESL\", \"SBN_INUN\", \"SBN_ONDA\",\n",
        "    \"EXP_ALAG\", \"EXP_DESL\", \"EXP_INUN\", \"EXP_ONDA\",\n",
        "    \"VUL_ALAG\", \"VUL_DESL\", \"VUL_INUN\", \"VUL_ONDA\",\n",
        "    \"CON_AMB\", \"CON_ANT\", \"CON_TOT\"\n",
        "]\n",
        "\n",
        "# garante que todas sejam numéricas (corrige vírgulas, converte pra float)\n",
        "for c in cols_numericas:\n",
        "    if c in risco_com_bairro.columns:\n",
        "        risco_com_bairro[c] = (\n",
        "            risco_com_bairro[c]\n",
        "            .astype(str)\n",
        "            .str.replace(\",\", \".\")\n",
        "            .str.extract(r\"([-+]?\\d*\\.?\\d+)\")[0]\n",
        "            .astype(float)\n",
        "        )\n",
        "\n",
        "# agrega estatísticas por bairro (médias e contagens)\n",
        "agg_dict = {c: \"mean\" for c in cols_numericas if c in risco_com_bairro.columns}\n",
        "agg_dict[\"geometry\"] = \"count\"\n",
        "\n",
        "resumo_bairros = (\n",
        "    risco_com_bairro\n",
        "    .groupby(\"NOME\")\n",
        "    .agg(agg_dict)\n",
        "    .reset_index()\n",
        "    .rename(columns={\"geometry\": \"num_areas_risco\"})\n",
        "    .sort_values(\"num_areas_risco\", ascending=False)\n",
        ")\n",
        "\n",
        "print(\"depois agregação bairros:\\n\",resumo_bairros.isna().sum())\n",
        "print(\"Shape resumo_bairros: \", resumo_bairros.shape, end=\"\\n\\n\")\n",
        "\n",
        "print(\"Médias e contagens por bairro:\")\n",
        "display(resumo_bairros.head(10))\n"
      ]
    },
    {
      "cell_type": "markdown",
      "id": "91032624",
      "metadata": {
        "id": "91032624"
      },
      "source": [
        "1 - AQUI COMECA A RESPONDER PERGUNTA 1 -\n",
        "Esse código serve pra juntar os dados dos bairros com as Unidades de Planejamento (UPs).\n",
        "Como alguns bairros ficam divididos entre mais de uma UP, ele usa a porcentagem de área de cada bairro dentro da UP pra fazer uma média ponderada.\n",
        "Assim, se um bairro está 70% numa UP e 30% em outra, o valor dele é dividido exatamente nessa proporção.\n",
        "No final, o resultado é uma tabela com os indicadores médios de cada UP, calculados de forma proporcional à área dos bairros que fazem parte dela.\n"
      ]
    },
    {
      "cell_type": "code",
      "execution_count": null,
      "id": "10718e3f",
      "metadata": {
        "colab": {
          "base_uri": "https://localhost:8080/",
          "height": 782
        },
        "id": "10718e3f",
        "outputId": "d941f760-7d79-4d16-cac0-8906993b4399"
      },
      "outputs": [],
      "source": [
        "\n",
        "#  Ler a tabela de correspondência bairro → UP\n",
        "\n",
        "\n",
        "bairros_por_up = pd.read_csv(\"csvs/bairros_por_up.csv\", encoding=\"utf-8\")\n",
        "\n",
        "# Corrige espaços e nomes de colunas\n",
        "bairros_por_up.columns = bairros_por_up.columns.str.strip()\n",
        "\n",
        "# Confere se o nome da coluna está correto agora\n",
        "# print(bairros_por_up.columns)\n",
        "# deve mostrar: ['ID_BAC', 'NOME', 'NOME_UNID_PLANEJAMENTO', 'perc_bairro_na_up']\n",
        "\n",
        "\n",
        "# Juntar o resumo dos bairros com a tabela de UPs\n",
        "\n",
        "resumo_bairros_up = resumo_bairros.merge(\n",
        "    bairros_por_up,\n",
        "    on=\"NOME\",   # nome do bairro\n",
        "    how=\"left\"\n",
        ")\n",
        "\n",
        "\n",
        "#  Calcular médias ponderadas por UP\n",
        "\n",
        "resumo_bairros_up[\"peso\"] = resumo_bairros_up[\"perc_bairro_na_up\"] / 100\n",
        "\n",
        "# identifica as colunas numéricas (todas as médias calculadas)\n",
        "cols_numericas = [\n",
        "    c for c in resumo_bairros_up.columns\n",
        "    if c not in [\"ID_BAC\", \"NOME\", \"NOME_UNID_PLANEJAMENTO\", \"perc_bairro_na_up\", \"peso\"]\n",
        "       and pd.api.types.is_numeric_dtype(resumo_bairros_up[c])\n",
        "]\n",
        "\n",
        "# cria colunas ponderadas\n",
        "for c in cols_numericas:\n",
        "    resumo_bairros_up[f\"{c}_pond\"] = resumo_bairros_up[c] * resumo_bairros_up[\"peso\"]\n",
        "\n",
        "\n",
        "# 4. Agregar por Unidade de Planejamento\n",
        "\n",
        "agg_dict = {f\"{c}_pond\": \"sum\" for c in cols_numericas}\n",
        "agg_dict[\"NOME\"] = \"count\"\n",
        "\n",
        "resumo_up = (\n",
        "    resumo_bairros_up\n",
        "    .groupby(\"NOME_UNID_PLANEJAMENTO\")\n",
        "    .agg(agg_dict)\n",
        "    .rename(columns={\"NOME\": \"num_bairros\"})\n",
        "    .reset_index()\n",
        ")\n",
        "print(\"Resumo_up NaNs\\n\", resumo_up.isna().sum(), end=\"\\n\") # NaNs de resumo_bairros some na agregação\n",
        "print(\"Resumo_up shape: \", resumo_up.shape)\n",
        "\n",
        "# remove o sufixo \"_pond\" dos nomes das colunas\n",
        "resumo_up.columns = [col.replace(\"_pond\", \"\") for col in resumo_up.columns]\n",
        "\n",
        "\n",
        "# resultado\n",
        "\n",
        "print(\"\\nResumo final por Unidade de Planejamento:\")\n",
        "display(resumo_up.head(10))\n"
      ]
    },
    {
      "cell_type": "markdown",
      "id": "36a3ee0c",
      "metadata": {
        "id": "36a3ee0c"
      },
      "source": [
        "Esse código descobre quanto de cada bairro está dentro de cada Unidade de Planejamento (UP).\n",
        "Primeiro ele lê os mapas dos bairros e das UPs e transforma as informações de texto em formas geométricas que o Python entende.\n",
        "Depois ele sobrepõe os dois mapas, cortando os bairros pelas fronteiras das UPs.\n",
        "Com isso, ele mede a área de cada pedaço e calcula a porcentagem do bairro que fica em cada UP.\n",
        "No fim, ele salva uma tabela mostrando, por exemplo, que um bairro está 70% em uma UP e 30% em outra.\n",
        "No final ele gera um arquivo bairros_por_up.csv\n"
      ]
    },
    {
      "cell_type": "code",
      "execution_count": null,
      "id": "68e7227a",
      "metadata": {
        "id": "68e7227a"
      },
      "outputs": [],
      "source": [
        "#  Ler os CSVs\n",
        "bairros = pd.read_csv(\"csvs/20230502_bairro_oficial.csv\")\n",
        "ups = pd.read_csv(\"csvs/20220601_unidade_planejamento.csv\")\n",
        "\n",
        "#  Converter a coluna 'GEOMETRIA' de texto WKT para objetos geométricos\n",
        "bairros[\"geometry\"] = bairros[\"GEOMETRIA\"].apply(wkt.loads)\n",
        "ups[\"geometry\"] = ups[\"GEOMETRIA\"].apply(wkt.loads)\n",
        "\n",
        "# Criar GeoDataFrames com o mesmo sistema de coordenadas (usa o mesmo CRS projetado)\n",
        "bairros = gpd.GeoDataFrame(bairros, geometry=\"geometry\", crs=\"EPSG:31983\")\n",
        "ups = gpd.GeoDataFrame(ups, geometry=\"geometry\", crs=\"EPSG:31983\")\n",
        "\n",
        "# Corrigir eventuais geometrias inválidas\n",
        "bairros[\"geometry\"] = bairros.buffer(0)\n",
        "ups[\"geometry\"] = ups.buffer(0)\n",
        "\n",
        "# Fazer a interseção espacial (cada pedaço do bairro que cai em uma UP)\n",
        "intersec = gpd.overlay(bairros, ups, how=\"intersection\")\n",
        "\n",
        "# 6) Calcular a área de cada interseção (em m²)\n",
        "intersec[\"area_intersect\"] = intersec.geometry.area\n",
        "\n",
        "# Calcular a proporção da área de cada bairro dentro de cada UP\n",
        "area_bairro = intersec.groupby(\"ID_BAC\")[\"area_intersect\"].sum().rename(\"area_total_bairro\")\n",
        "intersec = intersec.merge(area_bairro, on=\"ID_BAC\")\n",
        "intersec[\"perc_bairro_na_up\"] = (intersec[\"area_intersect\"] / intersec[\"area_total_bairro\"]) * 100\n",
        "\n",
        "#  Se quiser só o par principal (UP dominante de cada bairro)\n",
        "bairros_up = (\n",
        "    intersec.sort_values(\"perc_bairro_na_up\", ascending=False)\n",
        "    .groupby(\"ID_BAC\")\n",
        "    .first()\n",
        "    .reset_index()[[\"ID_BAC\", \"NOME\", \"NOME_UNID_PLANEJAMENTO\", \"perc_bairro_na_up\"]]\n",
        ")\n",
        "\n",
        "#  Salvar resultado\n",
        "bairros_up.to_csv(\"bairros_por_up.csv\", index=False)"
      ]
    },
    {
      "cell_type": "markdown",
      "id": "b94fb42c",
      "metadata": {
        "id": "b94fb42c"
      },
      "source": [
        "Esse código cria um mapa de correlação entre as variáveis numéricas do resumo por Unidade de Planejamento (UP).\n",
        "Primeiro ele separa só as colunas com números, depois calcula a correlação entre elas , ou seja o quanto uma variável está relacionada com a outra.\n",
        "Por fim, ele desenha um heatmap (mapa de calor) colorido: tons de vermelho mostram correlação positiva (as variáveis aumentam juntas) e tons de azul mostram correlação negativa (quando uma aumenta, a outra diminui).\n",
        "É uma forma visual de entender quais indicadores têm comportamento parecido ou contrário dentro das UPs."
      ]
    },
    {
      "cell_type": "code",
      "execution_count": null,
      "id": "a3d049b5",
      "metadata": {
        "colab": {
          "base_uri": "https://localhost:8080/",
          "height": 1000
        },
        "id": "a3d049b5",
        "outputId": "95cb49cb-137a-4561-db84-e3fc622fdea1"
      },
      "outputs": [],
      "source": [
        "import seaborn as sns\n",
        "import matplotlib.pyplot as plt\n",
        "\n",
        "# Selecionar apenas colunas numéricas\n",
        "variaveis_numericas_up = resumo_up.select_dtypes(include=['float64', 'int64']).columns\n",
        "\n",
        "# Remover algumas colunas\n",
        "variaveis_filtradas = [\n",
        "    col for col in variaveis_numericas_up\n",
        "    if not col.startswith(\"SBN\") and col not in [\"num_bairros\", \"num_areas_risco\"]\n",
        "]\n",
        "\n",
        "# Criar DataFrame apenas com as colunas numéricas filtradas\n",
        "df_corr_up = resumo_up[variaveis_filtradas]\n",
        "\n",
        "# Matriz de correlação\n",
        "corr_matrix_up = df_corr_up.corr()\n",
        "\n",
        "# Plotar o heatmap\n",
        "plt.figure(figsize=(12, 10))\n",
        "sns.heatmap(\n",
        "    corr_matrix_up,\n",
        "    annot=True,\n",
        "    cmap='coolwarm',\n",
        "    fmt=\".2f\",\n",
        "    square=True,\n",
        "    cbar_kws={\"shrink\": 0.8}\n",
        ")\n",
        "\n",
        "plt.title(\"Correlação entre variáveis médias por Unidade de Planejamento\", fontsize=14, pad=20)\n",
        "plt.tight_layout()\n",
        "\n",
        "# Exportar imagem\n",
        "plt.savefig(\"imgs/mapa_calor_up.png\", dpi=300, bbox_inches='tight')\n",
        "\n",
        "plt.show()\n"
      ]
    },
    {
      "cell_type": "markdown",
      "id": "0593f043",
      "metadata": {
        "id": "0593f043"
      },
      "source": [
        "Esse código junta os dados do IQVU mais recente com o resumo das Unidades de Planejamento (UPs).\n",
        "Primeiro ele escolhe, pra cada UP, o último ano disponível do IQVU , ou seja, a versão mais atual do índice.\n",
        "Depois ele padroniza os nomes, deixando tudo em maiúsculas e sem espaços extras, pra evitar erro na hora de juntar.\n",
        "Por fim, ele faz a junção das duas tabelas: o resumo das UPs de um lado e os valores do IQVU do outro.\n",
        "O resultado é uma tabela completa, com as informações atuais de qualidade de vida associadas a cada Unidade de Planejamento."
      ]
    },
    {
      "cell_type": "code",
      "execution_count": null,
      "id": "263797b5",
      "metadata": {
        "colab": {
          "base_uri": "https://localhost:8080/"
        },
        "id": "263797b5",
        "outputId": "95a045a7-af47-4da2-dc63-185f5f44e51a"
      },
      "outputs": [],
      "source": [
        "# Seleciona o último ano de IQVU por UP\n",
        "iqvu_recente = (\n",
        "    iqvu.loc[iqvu.groupby(\"nome\")[\"ano\"].idxmax()]\n",
        "    .reset_index(drop=True)\n",
        ")\n",
        "\n",
        "print(\"iqvu NaNs:\\n\", iqvu_recente.isna().sum())\n",
        "print(\"iqvu shape: \", iqvu_recente.shape, end=\"\\n\\n\")\n",
        "\n",
        "# Padroniza nomes\n",
        "resumo_up[\"NOME_UNID_PLANEJAMENTO\"] = resumo_up[\"NOME_UNID_PLANEJAMENTO\"].str.upper().str.strip()\n",
        "iqvu_recente[\"nome\"] = iqvu_recente[\"nome\"].str.upper().str.strip()\n",
        "\n",
        "# Faz o merge\n",
        "dados_up = resumo_up.merge(\n",
        "    iqvu_recente,\n",
        "    left_on=\"NOME_UNID_PLANEJAMENTO\",\n",
        "    right_on=\"nome\",\n",
        "    how=\"inner\"\n",
        ")\n",
        "\n",
        "print(\"dados_up NaNs: \\n\", dados_up.isna().sum())\n",
        "print(dados_up.head())\n",
        "print(dados_up.shape)\n"
      ]
    },
    {
      "cell_type": "markdown",
      "id": "10018ec3",
      "metadata": {
        "id": "10018ec3"
      },
      "source": [
        "Esse código mede como cada parte do IQVU se relaciona com o risco socioambiental.\n",
        "Ele começa listando os subíndices do IQVU (educação, habitação, infraestrutura, etc.) e depois calcula a correlação de cada um deles com o indicador de risco médio das UPs.\n",
        "O resultado mostra quais dimensões da qualidade de vida estão mais ligadas ao aumento ou à redução do risco.\n",
        "Por fim, ele desenha um gráfico de barras pra visualizar essas correlações: barras negativas indicam que, quando a qualidade naquela área piora, o risco tende a aumentar."
      ]
    },
    {
      "cell_type": "code",
      "execution_count": null,
      "id": "431b4221",
      "metadata": {
        "colab": {
          "base_uri": "https://localhost:8080/",
          "height": 714
        },
        "id": "431b4221",
        "outputId": "095e458e-e5fb-459b-81b8-78b6a25cece4"
      },
      "outputs": [],
      "source": [
        "\n",
        "\n",
        "# Lista de subíndices do IQVU\n",
        "subindices = [\n",
        "    \"iqvu_educacao\",\n",
        "    \"iqvu_habitacao\",\n",
        "    \"iqvu_infraestrutura\",\n",
        "    \"iqvu_meio_ambiente\",\n",
        "    \"iqvu_saude\",\n",
        "    \"iqvu_servicos\"\n",
        "]\n",
        "\n",
        "# Calcula correlação de cada subíndice com o risco socioambiental médio\n",
        "corrs = {sub: dados_up[sub].corr(dados_up[\"CON_TOT\"]) for sub in subindices}\n",
        "\n",
        "# Transforma em DataFrame para visualizar melhor\n",
        "corr_df = (\n",
        "    pd.DataFrame.from_dict(corrs, orient=\"index\", columns=[\"correlação\"])\n",
        "    .sort_values(\"correlação\", ascending=True)\n",
        ")\n",
        "\n",
        "print(corr_df)\n",
        "\n",
        "# Gráfico de barras\n",
        "plt.figure(figsize=(8,5))\n",
        "sns.barplot(x=corr_df.index, y=corr_df[\"correlação\"], palette=\"mako\")\n",
        "plt.title(\"Correlação entre subíndices do IQVU e risco socioambiental médio\", fontsize=13, pad=15)\n",
        "plt.xticks(rotation=45, ha=\"right\")\n",
        "plt.ylabel(\"Correlação (r)\")\n",
        "plt.tight_layout()\n",
        "plt.show()\n"
      ]
    },
    {
      "cell_type": "code",
      "execution_count": null,
      "id": "cbab2585",
      "metadata": {
        "colab": {
          "base_uri": "https://localhost:8080/",
          "height": 607
        },
        "id": "cbab2585",
        "outputId": "338f0996-bbdd-4724-e4b4-44ec1f7ed78f"
      },
      "outputs": [],
      "source": [
        "import pandas as pd\n",
        "import seaborn as sns\n",
        "import matplotlib.pyplot as plt\n",
        "\n",
        "#\n",
        "dados_2016 = dados_up[dados_up[\"ano\"] == 2016].copy()\n",
        "\n",
        "\n",
        "subindices = [\n",
        "    \"iqvu_educacao\",\n",
        "    \"iqvu_habitacao\",\n",
        "    \"iqvu_infraestrutura\",\n",
        "    \"iqvu_meio_ambiente\",\n",
        "    \"iqvu_saude\",\n",
        "    \"iqvu_servicos\"\n",
        "]\n",
        "\n",
        "# Colunas que devem ser excluídas do cálculo\n",
        "colunas_excluir = [\"ano\", \"cod_up\", \"num_bairros\", \"num_areas_risco\"]\n",
        "\n",
        "# Seleciona as colunas numéricas, excluindo as que começam com \"SBN\" ou estão na lista de exclusão\n",
        "variaveis_sem_sbn = [\n",
        "    col for col in dados_2016.select_dtypes(include=['float64', 'int64']).columns\n",
        "    if not col.startswith(\"SBN\") and col not in colunas_excluir\n",
        "]\n",
        "\n",
        "# Mantém só as variáveis numéricas que não são IQVU\n",
        "variaveis_out = [v for v in variaveis_sem_sbn if v not in subindices]\n",
        "\n",
        "# Cria matriz de correlação\n",
        "corr_iqvu = dados_2016[subindices + variaveis_out].corr()\n",
        "corr_iqvu = corr_iqvu.loc[subindices, variaveis_out]\n",
        "\n",
        "# Plotar o heatmap\n",
        "plt.figure(figsize=(12, 6))\n",
        "sns.heatmap(\n",
        "    corr_iqvu,\n",
        "    annot=True,\n",
        "    cmap=\"coolwarm\",\n",
        "    fmt=\".2f\",\n",
        "    cbar_kws={\"shrink\": 0.8}\n",
        ")\n",
        "plt.title(\"Correlação entre subíndices do IQVU (2016) e variáveis socioambientais\", fontsize=13, pad=20)\n",
        "plt.xlabel(\"Variáveis socioambientais\")\n",
        "plt.ylabel(\"Subíndices do IQVU\")\n",
        "plt.tight_layout()\n",
        "\n",
        "plt.savefig(\"imgs/corr_iqvu_2016.png\", dpi=300, bbox_inches='tight')\n",
        "plt.show()\n"
      ]
    },
    {
      "cell_type": "markdown",
      "id": "7be46042",
      "metadata": {
        "id": "7be46042"
      },
      "source": [
        "Esse código faz um teste de correlação de Pearson pra ver o quanto cada tipo de risco (como alagamento, deslizamento ou inundação) está ligado ao risco total das áreas.\n",
        "Ele calcula, pra cada variável, o valor do coeficiente r, que mostra se a relação é forte e se é positiva ou negativa, e o valor-p, que indica se essa relação é estatisticamente confiável.\n",
        "No fim, ele organiza tudo em uma tabela com os resultados e salva como uma imagem, pra visualizar de forma simples quais tipos de risco mais influenciam no risco total."
      ]
    },
    {
      "cell_type": "code",
      "execution_count": null,
      "id": "0596ac2c",
      "metadata": {
        "colab": {
          "base_uri": "https://localhost:8080/",
          "height": 837
        },
        "id": "0596ac2c",
        "outputId": "02a83850-7a35-407c-933d-a1c27efc0d1f"
      },
      "outputs": [],
      "source": [
        "import pandas as pd\n",
        "import matplotlib.pyplot as plt\n",
        "from scipy.stats import pearsonr\n",
        "\n",
        "# Filtra apenas o ano de 2016\n",
        "dados_2016 = dados_up[dados_up[\"ano\"] == 2016].copy()\n",
        "\n",
        "# Subíndices do IQVU\n",
        "subindices = [\n",
        "    \"iqvu_educacao\",\n",
        "    \"iqvu_habitacao\",\n",
        "    \"iqvu_infraestrutura\",\n",
        "    \"iqvu_meio_ambiente\",\n",
        "    \"iqvu_saude\",\n",
        "    \"iqvu_servicos\"\n",
        "]\n",
        "\n",
        "# Variáveis de risco da base SBN\n",
        "variaveis_risco = [\n",
        "    'EXP_ALAG', 'EXP_DESL', 'EXP_INUN', 'EXP_ONDA',\n",
        "    'VUL_ALAG', 'VUL_DESL', 'VUL_INUN', 'VUL_ONDA',\n",
        "    'CON_AMB', 'CON_ANT'\n",
        "]\n",
        "\n",
        "\n",
        "# 1️⃣ Teste de Pearson – variáveis SBN\n",
        "\n",
        "resultados_sbn = []\n",
        "for var in variaveis_risco:\n",
        "    if var in dados_2016.columns and 'CON_TOT' in dados_2016.columns:\n",
        "        r, p = pearsonr(dados_2016[var], dados_2016['CON_TOT'])\n",
        "        resultados_sbn.append({\n",
        "            \"Variável\": var,\n",
        "            \"Coeficiente r\": round(r, 3),\n",
        "            \"Valor-p\": f\"{p:.2e}\"\n",
        "        })\n",
        "\n",
        "pearson_sbn = pd.DataFrame(resultados_sbn).sort_values(\"Coeficiente r\", ascending=False)\n",
        "\n",
        "# Exibe e salva a tabela como imagem\n",
        "fig, ax = plt.subplots(figsize=(7, len(pearson_sbn)*0.45 + 1))\n",
        "ax.axis('off')\n",
        "\n",
        "tabela = ax.table(\n",
        "    cellText=pearson_sbn.values,\n",
        "    colLabels=pearson_sbn.columns,\n",
        "    cellLoc='center',\n",
        "    loc='center'\n",
        ")\n",
        "tabela.auto_set_font_size(False)\n",
        "tabela.set_fontsize(9)\n",
        "tabela.auto_set_column_width(col=list(range(len(pearson_sbn.columns))))\n",
        "for (row, col), cell in tabela.get_celld().items():\n",
        "    if row == 0:\n",
        "        cell.set_facecolor('#1a5276')\n",
        "        cell.set_text_props(color='white', weight='bold')\n",
        "\n",
        "plt.title(\"Teste de Correlação de Pearson – Variáveis de Risco (SBN)\", fontsize=12, pad=15)\n",
        "plt.savefig(\"imgs/teste_pearson_sbn.png\", dpi=300, bbox_inches=\"tight\")\n",
        "plt.show()\n",
        "\n",
        "\n",
        "# Teste de Pearson – IQVU x CON_TOT\n",
        "\n",
        "resultados_iqvu = []\n",
        "for sub in subindices:\n",
        "    if sub in dados_2016.columns and 'CON_TOT' in dados_2016.columns:\n",
        "        r, p = pearsonr(dados_2016[sub], dados_2016['CON_TOT'])\n",
        "        resultados_iqvu.append({\n",
        "            \"Subíndice IQVU\": sub,\n",
        "            \"Coeficiente r\": round(r, 3),\n",
        "            \"Valor-p\": f\"{p:.2e}\"\n",
        "        })\n",
        "\n",
        "pearson_iqvu = pd.DataFrame(resultados_iqvu).sort_values(\"Coeficiente r\", ascending=False)\n",
        "\n",
        "fig, ax = plt.subplots(figsize=(7, len(pearson_iqvu)*0.45 + 1))\n",
        "ax.axis('off')\n",
        "\n",
        "tabela2 = ax.table(\n",
        "    cellText=pearson_iqvu.values,\n",
        "    colLabels=pearson_iqvu.columns,\n",
        "    cellLoc='center',\n",
        "    loc='center'\n",
        ")\n",
        "tabela2.auto_set_font_size(False)\n",
        "tabela2.set_fontsize(9)\n",
        "tabela2.auto_set_column_width(col=list(range(len(pearson_iqvu.columns))))\n",
        "for (row, col), cell in tabela2.get_celld().items():\n",
        "    if row == 0:\n",
        "        cell.set_facecolor('#117a65')\n",
        "        cell.set_text_props(color='white', weight='bold')\n",
        "\n",
        "plt.title(\"Teste de Correlação de Pearson – IQVU (2016) x Índice Total de Risco\", fontsize=12, pad=15)\n",
        "plt.savefig(\"imgs/teste_pearson_iqvu.png\", dpi=300, bbox_inches=\"tight\")\n",
        "plt.show()\n"
      ]
    },
    {
      "cell_type": "markdown",
      "id": "5f2a1b12",
      "metadata": {
        "id": "5f2a1b12"
      },
      "source": [
        "### Pergunta 1\n",
        "\n",
        "####É possível construir um modelo preditivo que identifique bairros com potencial de se tornarem áreas de alto risco socioambiental nos próximos anos? Seria respondido mediante os atributos que designam o risco de ocorrer inundação, alagamento, deslizamento em uma área e desses valores é possível definir se uma área sofrerá constantemente com causas geológicas no futuro.\n",
        "\n",
        "Antes de analisar as relações entre risco socioambiental e condições urbanas, foi preciso padronizar os dados no mesmo nível territorial. Enquanto o IQVU é calculado por Unidade de Planejamento (UP), outros indicadores estavam por bairro. Para compará-los, os dados de bairro foram convertidos em médias ponderadas por UP, usando como peso a proporção de área que cada bairro ocupa dentro da unidade. Isso garantiu que regiões maiores tivessem mais influência nos resultados e evitou distorções.\n",
        "\n",
        "Com os dados consolidados por UP, foi feita uma análise exploratória para identificar como os indicadores socioambientais se relacionam entre si. Foram mantidas apenas as variáveis numéricas e retiradas as que indicavam áreas prioritárias de Soluções Baseadas na Natureza (SBN), pois representam propostas de intervenção e não riscos diretos.\n",
        "\n",
        "![](imgs/correlacaoEntreVariaveisMedias.png)\n",
        "\n",
        "A partir disso, foi construída uma matriz de correlação e um mapa de calor para visualizar as relações entre os indicadores. As correlações positivas e fortes mostraram que diferentes tipos de risco, como alagamento, deslizamento ou ondas de calor, tendem a ocorrer nas mesmas regiões. Isso indica que as vulnerabilidades urbanas são interligadas e refletem condições estruturais comuns, como adensamento, falta de drenagem e escassez de áreas verdes.\n",
        "\n",
        "![](imgs/correlacaoSubindVariaveisMedias.png)\n",
        "\n",
        "Na sequência, os dados socioambientais foram comparados aos subíndices do IQVU de 2016 (educação, habitação, infraestrutura, meio ambiente, saúde e serviços). As correlações, em geral, foram baixas ou negativas: áreas com piores condições urbanas também são as mais expostas a riscos e vulnerabilidades. Educação mostrou correlação positiva moderada, sugerindo que o acesso à educação tende a reduzir a exposição e a vulnerabilidade. Já habitação, infraestrutura e saúde apresentaram correlações fracas e negativas, reforçando a relação entre precariedade urbana e risco.\n",
        "\n",
        "Esses resultados confirmam que as desigualdades urbanas e ambientais em Belo Horizonte se sobrepõem: as regiões com menor qualidade de vida são também as mais vulneráveis aos impactos socioambientais.\n",
        "\n",
        "Foram feitos testes de correlação de Pearson para verificar se existe relação entre os diferentes tipos de risco socioambiental da base SBN e também entre esses riscos e os subíndices do IQVU de 2016. O teste mostra se duas variáveis andam juntas — por exemplo, se quando uma aumenta a outra também tende a aumentar.\n",
        "\n",
        "A hipótese nula (H₀) diz que não existe relação significativa entre as variáveis.\n",
        "A hipótese alternativa (H₁) diz que existe uma relação significativa.\n",
        "Foi usado um nível de confiança de 95%.\n",
        "\n",
        "Nos resultados da base SBN, quase todas as variáveis tiveram correlações positivas e altas com o índice total de risco, e valores-p muito baixos (menores que 0,001). Isso indica que os diferentes tipos de risco aparecem nas mesmas regiões, ou seja, onde há um problema, normalmente existem outros também.\n",
        "\n",
        "Já na comparação com o IQVU, as correlações foram baixas e, em alguns casos, negativas. Isso mostra que as áreas com piores condições urbanas tendem a ter maiores riscos ambientais, mas essa relação não é forte nem uniforme."
      ]
    },
    {
      "cell_type": "markdown",
      "id": "6d0f0416",
      "metadata": {
        "id": "6d0f0416"
      },
      "source": [
        "### Pergunta 2\n",
        "\n",
        "#### Quais são as variáveis urbanas e sociais com maior poder de influência na determinação da vulnerabilidade? Um estudo será feito em torno das variáveis de qualidade de vida em relação ao risco naquela área, para dizer qual contribui mais para a ocorrência de vulnerabilidade.\n",
        "\n",
        "![](imgs/correlacaoEntreSubindices.jpeg)\n",
        "\n",
        "\n",
        "A pergunta dois foi respondida com base na análise feita na pergunta um e tendo em vista esse gráfico que ilustra a correlação entre subíndices do IQVU e o risco socioambiental médio\n",
        "\n",
        "Dessa forma, a partir das correlações calculadas, foi possível identificar quais variáveis urbanas exercem maior influência sobre a vulnerabilidade socioambiental. Entre os subíndices do IQVU, educação e meio ambiente foram os que apresentaram as relações mais expressivas com o risco médio. O subíndice de educação apresentou correlação positiva moderada, indicando que regiões com melhores condições educacionais tendem a ter menor exposição a riscos. Isso sugere que o acesso à educação atua como um fator de proteção, ampliando a capacidade de adaptação das populações e contribuindo para práticas mais conscientes de prevenção e gestão urbana.\n",
        "\n",
        "Em contrapartida, o subíndice de meio ambiente apresentou a correlação negativa mais acentuada, evidenciando que áreas com piores condições ambientais são também as mais suscetíveis a impactos, como alagamentos, deslizamentos e ondas de calor. Essa relação reforça que a degradação ambiental não apenas expressa desigualdades territoriais, mas também intensifica a vulnerabilidade socioambiental.\n",
        "\n",
        "Os subíndices de habitação, infraestrutura e saúde mostraram correlações negativas mais discretas, o que indica uma influência indireta sobre os níveis de vulnerabilidade, enquanto serviços apresentou correlação próxima de zero, sugerindo uma relação menos significativa.\n",
        "\n",
        "De forma geral, esses resultados confirmam que a vulnerabilidade socioambiental em Belo Horizonte está associada a um conjunto de fatores interligados, em que a qualidade ambiental e o acesso à educação se destacam como dimensões centrais. A partir dessa análise, essas variáveis podem ser priorizadas em estudos preditivos, contribuindo para a identificação de áreas com maior potencial de se tornarem zonas de risco e para o direcionamento de políticas públicas mais eficazes de mitigação e adaptação."
      ]
    },
    {
      "cell_type": "markdown",
      "id": "c2c782b9",
      "metadata": {
        "id": "c2c782b9"
      },
      "source": [
        "### Pergunta 3"
      ]
    },
    {
      "cell_type": "markdown",
      "id": "d26dff20",
      "metadata": {
        "id": "d26dff20"
      },
      "source": [
        "#### Os dados conseguem responder se as condicionantes antrópicas influenciam diretamente em um maior risco socioambiental ?"
      ]
    },
    {
      "cell_type": "markdown",
      "id": "97d8fa2f",
      "metadata": {
        "id": "97d8fa2f"
      },
      "source": [
        "Hipótese Nula (H₀): As condicionantes antrópicas não influenciam em um maior risco socioambiental, isto é, não deve haver uma correlação entre os valores de condicionantes antrópicas e os valores de exposição, vulnerabilidade socioambiental e de áreas prioritárias de implementação SBN.\n",
        "\n",
        "Hipótese alternativa (H₁): As condicionantes antrópicas influenciam o risco socioambiental, isto é, há correlação significativa entre os valores de condicionantes antrópicas e as variáveis de exposição, vulnerabilidade e SBN."
      ]
    },
    {
      "cell_type": "markdown",
      "id": "e8108a78",
      "metadata": {
        "id": "e8108a78"
      },
      "source": [
        "Será realizada a análise diretamente sobre a base de dados original, sem qualquer tipo de agregação ou junção com outras bases externas, de modo que a variável condicionantes antrópicas seja avaliada no mesmo contexto das suas variáveis de risco correspondentes. Foi investigado a quantidade de NaNs na base e removemos as colunas que tinham um número considerável de valores ausentes (removemos as que tinham aprox. mais de 20% de NaNs na feature), para evitar lacunas na futura análise se tal variável é correlacionado ou não a variável dependente. Assim, obtemos um dataset consistente e adequado para aplicar o teste de hipótese.\n",
        "\n",
        "A técnica aplicada para testar essa hipótese foi o teste de correlação de Pearson (r), que mede o grau e a direção da relação linear entre duas variáveis quantitativas. Essa técnica fornece o valor r, que é a intensidade e direção da correlação (varia de –1 a +1) e p-value, que é o nível de significância estatística (probabilidade de observar esse valor r se H₀ fosse verdadeira).\n",
        "\n",
        "Critérios de decisão:\n",
        " - Se valor-p < 0,05, rejeita-se H₀ (há correlação significativa).\n",
        " - Se valor-p ≥ 0,05, não se rejeita H₀ (não há correlação significativa)."
      ]
    },
    {
      "cell_type": "code",
      "execution_count": null,
      "id": "99717f4d",
      "metadata": {
        "colab": {
          "base_uri": "https://localhost:8080/",
          "height": 772
        },
        "id": "99717f4d",
        "outputId": "30eaaa87-cbdd-4e27-99ba-df13fed2bb21"
      },
      "outputs": [],
      "source": [
        "df = pd.read_csv('csvs/20250707_area-prioritaria-_sbn.csv', sep=\";\", encoding='latin-1')\n",
        "\n",
        "print(df.isna().sum())\n",
        "df_copy = df.drop(columns={'VUL_DESL', 'VUL_INUN', 'AC_DESL', 'AC_INUN', 'SBN_DESL', 'SBN_INUN', 'VUL_ALAG'})\n",
        "print(\"NaNs após remoção: \", sum(df_copy.isna().sum()))\n",
        "\n",
        "variaveis_risco = [\n",
        "    'SBN_ALAG', 'SBN_ONDA', 'EXP_ALAG',\n",
        "    'EXP_DESL', 'EXP_INUN', 'EXP_ONDA',\n",
        "    'VUL_ONDA'\n",
        "]\n",
        "\n",
        "resultados = []\n",
        "for var in variaveis_risco:\n",
        "    r, p = pearsonr(df[var], df['CON_ANT'])\n",
        "    resultados.append({\n",
        "        \"Variável\": var,\n",
        "        \"Coeficiente r\": round(r, 3),\n",
        "        \"Valor-p\": f\"{p:.2e}\"\n",
        "    })\n",
        "\n",
        "pearson_df = pd.DataFrame(resultados).sort_values(\"Coeficiente r\", ascending=False)\n",
        "\n",
        "fig, ax = plt.subplots(figsize=(7, len(pearson_df)*0.45 + 1))\n",
        "ax.axis('off')\n",
        "\n",
        "tabela = ax.table(\n",
        "    cellText=pearson_df.values,\n",
        "    colLabels=pearson_df.columns,\n",
        "    cellLoc='center',\n",
        "    loc='center'\n",
        ")\n",
        "\n",
        "\n",
        "tabela.auto_set_font_size(False)\n",
        "tabela.set_fontsize(9)\n",
        "tabela.auto_set_column_width(col=list(range(len(pearson_df.columns))))\n",
        "\n",
        "\n",
        "for (row, col), cell in tabela.get_celld().items():\n",
        "    if row == 0:\n",
        "        cell.set_facecolor('#1a5276')\n",
        "        cell.set_text_props(color='white', weight='bold')\n",
        "\n",
        "plt.savefig(\"imgs/teste_pearson_Q3.png\", dpi=300, bbox_inches=\"tight\")\n",
        "plt.show()"
      ]
    },
    {
      "cell_type": "markdown",
      "id": "f5098879",
      "metadata": {
        "id": "f5098879"
      },
      "source": [
        "#### Análise dos resultados\n",
        "\n",
        "- Para as variáveis SBN_ONDA, SBN_ALAG, VUL_ONDA, EXP_ALAG e EXP_ONDA, os valores-p são extremamente baixos. Assim, rejeita-se a H₀, pois há correlação estatisticamente significativa entre as condicionantes antrópicas e esses indicadores de risco.\n",
        "\n",
        "- Para EXP_INUN e EXP_DESL, os valores-p > 0,05 não se rejeita H₀, pois não há evidência de correlação significativa.\n",
        "➜ Esses tipos de risco parecem não estar diretamente associados às pressões antrópicas.\n",
        "\n",
        "Lembrando que a direção positiva de r indica que quanto maiores as condicionantes antrópicas, maior tende a ser o risco socioambiental (vulnerabilidade, exposição ou necessidade de SBN).\n",
        "\n",
        "Dessa forma, com base nessa análise e no teste de correlação de Pearson, foi possível identificar associações estatisticamente significativas entre as condicionantes antrópicas e a maioria dos indicadores de risco socioambiental analisados. As correlações mais fortes ocorreram para as variáveis relacionadas às Soluções Baseadas na Natureza (SBN) e à vulnerabilidade ao perigo de ondas, indicando que áreas com maior pressão antrópica também concentram maior necessidade de intervenção, pois há suscetibilidade a impactos ambientais. Assim, rejeita-se parcialmente a hipótese nula, uma vez que há evidência de que as condicionantes antrópicas influenciam diretamente o aumento do risco socioambiental em determinados contextos."
      ]
    },
    {
      "cell_type": "markdown",
      "id": "b1a49066",
      "metadata": {
        "id": "b1a49066"
      },
      "source": [
        "### Pergunta 4\n",
        "#### De que forma alterações simuladas na infraestrutura urbana impactam o mapa de risco da cidade? Seria feito modificações nos valores de riscos e se isso geraria na diminuição da vulnerabilidade, correlacionando com as possíveis políticas públicas voltada para mitigação desses riscos.\n"
      ]
    },
    {
      "cell_type": "markdown",
      "id": "cfa53998",
      "metadata": {
        "id": "cfa53998"
      },
      "source": [
        "Hipótese Nula (H₀): Alterações simuladas na infraestrutura urbana não impactam na vulnerabilidade socioambiental.\n",
        "\n",
        "Hipótese Alternativa (H¹): Alterações simuladas na infraestrutura urbana impactam na vulnerabilidade socioambiental.\n",
        "\n",
        "A análise exploratório e o teste de hipótese seguem a mesma linha de raciocínio dita na questão 3, com a diferença que estamos focando agora na relação entre as pressões antrópicas e a vulnerabilidade/exposição"
      ]
    },
    {
      "cell_type": "code",
      "execution_count": null,
      "id": "6f1c2004",
      "metadata": {
        "colab": {
          "base_uri": "https://localhost:8080/",
          "height": 287
        },
        "id": "6f1c2004",
        "outputId": "927d1e3e-c777-41ec-e85e-216a332bcb32"
      },
      "outputs": [],
      "source": [
        "variaveis_risco = [\n",
        "    'EXP_ALAG', 'EXP_DESL', 'EXP_INUN',\n",
        "    'EXP_ONDA','VUL_ONDA'\n",
        "]\n",
        "\n",
        "resultados = []\n",
        "for var in variaveis_risco:\n",
        "    r, p = pearsonr(df[var], df['CON_ANT'])\n",
        "    resultados.append({\n",
        "        \"Variável\": var,\n",
        "        \"Coeficiente r\": round(r, 3),\n",
        "        \"Valor-p\": f\"{p:.2e}\"\n",
        "    })\n",
        "\n",
        "pearson_df = pd.DataFrame(resultados).sort_values(\"Coeficiente r\", ascending=False)\n",
        "\n",
        "fig, ax = plt.subplots(figsize=(7, len(pearson_df)*0.45 + 1))\n",
        "ax.axis('off')\n",
        "\n",
        "tabela = ax.table(\n",
        "    cellText=pearson_df.values,\n",
        "    colLabels=pearson_df.columns,\n",
        "    cellLoc='center',\n",
        "    loc='center'\n",
        ")\n",
        "\n",
        "\n",
        "tabela.auto_set_font_size(False)\n",
        "tabela.set_fontsize(9)\n",
        "tabela.auto_set_column_width(col=list(range(len(pearson_df.columns))))\n",
        "\n",
        "\n",
        "for (row, col), cell in tabela.get_celld().items():\n",
        "    if row == 0:\n",
        "        cell.set_facecolor('#1a5276')\n",
        "        cell.set_text_props(color='white', weight='bold')"
      ]
    },
    {
      "cell_type": "markdown",
      "id": "f1ef0e39",
      "metadata": {
        "id": "f1ef0e39"
      },
      "source": [
        "A imagem diz como a variável de condicionantes antrópicas (CONT_ANT) se correlaciona com as demais variáveis que são indicadores de vulnerabildidade e exposição, dessa forma, futuramente, poderemos simular valores em CONT_ANT com o intuito de averiguar se isso resulta em alguma mudança nessas features de indicadores.\n",
        "\n",
        "Com isso em vista, vemos que para algumas variáveis há estatística significativa (VUL_ONDA, EXP_ALAG) para rejeitar a hipótese e outras que não da para rejeitar a hipótese (EXP_INUN, EXP_DESL). Entretanto, os valores r das que são estatísticamente significativa sobressaem das outras, assim, podemos parcialmente rejeitar a hipótese nula."
      ]
    },
    {
      "cell_type": "markdown",
      "id": "Lc_RCjViTAGO",
      "metadata": {
        "id": "Lc_RCjViTAGO"
      },
      "source": [
        "#### Simulação do impacto de melhorias de infraestrutura sobre os riscos\n",
        "\n"
      ]
    },
    {
      "cell_type": "code",
      "execution_count": null,
      "id": "NcNJvdaIXp0t",
      "metadata": {
        "colab": {
          "base_uri": "https://localhost:8080/"
        },
        "id": "NcNJvdaIXp0t",
        "outputId": "d4f80dfe-9ee8-43a5-c5d2-a1b37018169a"
      },
      "outputs": [],
      "source": [
        "from sklearn.linear_model import LinearRegression\n",
        "\n",
        "# --- 1. configuração ---\n",
        "CSV_PATH = \"csvs/20250707_area-prioritaria-_sbn.csv\"\n",
        "FEATURE = 'CON_ANT'\n",
        "TARGETS = ['VUL_ONDA', 'EXP_ALAG'] # alvos da simulação\n",
        "FATOR_REDUCAO = 0.5 # melhoria de 50%\n",
        "\n",
        "print(f\"--- Simulação: Impacto de '{FEATURE}' (Redução de 50%) sobre {TARGETS} ---\")\n",
        "\n",
        "# --- 2. carregar dados ---\n",
        "df = pd.read_csv(CSV_PATH, delimiter=';')\n",
        "\n",
        "resultados = []\n",
        "\n",
        "# --- 3. modelar e simular para cada alvo ---\n",
        "for target in TARGETS:\n",
        "\n",
        "    # preparar dados (remover NaNs do par)\n",
        "    df_temp = df[[FEATURE, target]].dropna()\n",
        "\n",
        "    if not df_temp.empty:\n",
        "        X_original = df_temp[[FEATURE]]\n",
        "        y_original = df_temp[target]\n",
        "\n",
        "        # treinar modelo: Risco = B0 + B1 * CON_ANT\n",
        "        model = LinearRegression()\n",
        "        model.fit(X_original, y_original)\n",
        "\n",
        "        # calcular média original\n",
        "        media_risco_original = y_original.mean()\n",
        "\n",
        "        # criar dados simulados (CON_ANT * 0.5)\n",
        "        X_simulado = X_original * FATOR_REDUCAO\n",
        "\n",
        "        # prever novo risco e calcular nova média\n",
        "        y_pred_simulado = model.predict(X_simulado)\n",
        "        media_risco_simulado = y_pred_simulado.mean()\n",
        "\n",
        "        # calcular impacto\n",
        "        mudanca_perc = ((media_risco_simulado - media_risco_original) / abs(media_risco_original)) * 100\n",
        "\n",
        "        resultados.append({\n",
        "            'Variavel_Alvo': target,\n",
        "            'Media_Original': media_risco_original,\n",
        "            'Media_Simulada': media_risco_simulado,\n",
        "            'Mudanca_Percentual (%)': mudanca_perc\n",
        "        })\n",
        "\n",
        "# --- 4. apresentar resultados ---\n",
        "df_resultados = pd.DataFrame(resultados)\n",
        "print(df_resultados.to_markdown(index=False, floatfmt=\".4f\"))"
      ]
    },
    {
      "cell_type": "markdown",
      "id": "BVLGc52tYF1O",
      "metadata": {
        "id": "BVLGc52tYF1O"
      },
      "source": [
        "A simulação baseada em Regressão Linear confirma que as condicionantes antrópicas (CON_ANT) têm um impacto direto e substancial sobre os riscos socioambientais. Ao simular uma melhoria de 50% na infraestrutura (reduzindo CON_ANT pela metade), os resultados mostram uma diminuição significativa nas variáveis alvo. Especificamente, a Vulnerabilidade à Onda (VUL_ONDA) apresentou uma redução de 44.68%, enquanto a Exposição ao Alagamento (EXP_ALAG) diminuiu 48.57%. Estes resultados quantificam a forte relação positiva entre as condições antrópicas e os riscos, validando a hipótese de que investimentos em infraestrutura (representados pela diminuição de CON_ANT) resultam em uma redução direta e mensurável dos riscos."
      ]
    }
  ],
  "metadata": {
    "colab": {
      "provenance": []
    },
    "kernelspec": {
      "display_name": "Python 3",
      "language": "python",
      "name": "python3"
    },
    "language_info": {
      "codemirror_mode": {
        "name": "ipython",
        "version": 3
      },
      "file_extension": ".py",
      "mimetype": "text/x-python",
      "name": "python",
      "nbconvert_exporter": "python",
      "pygments_lexer": "ipython3",
      "version": "3.12.3"
    }
  },
  "nbformat": 4,
  "nbformat_minor": 5
}
